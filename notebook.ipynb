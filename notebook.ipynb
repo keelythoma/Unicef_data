{
 "cells": [
  {
   "cell_type": "code",
   "execution_count": null,
   "id": "cccbfdf6",
   "metadata": {
    "vscode": {
     "languageId": "plaintext"
    }
   },
   "outputs": [],
   "source": [
    "from plotnine import ggplot, aes, geom_point\n",
    "import pandas as pd\n",
    "\n",
    "# example \n",
    "data = pd.DataFrame({\n",
    "\n",
    "    'x': [1,2,3,4,5],\n",
    "    'y': [5,4,3,2,1]\n",
    "})\n",
    "\n",
    "#scatter plot\n",
    "plot = ggplot(data, aes(x='x',y='y')) + geom_point()\n",
    "\n",
    "print(plot)"
   ]
  }
 ],
 "metadata": {
  "language_info": {
   "name": "python"
  }
 },
 "nbformat": 4,
 "nbformat_minor": 5
}
